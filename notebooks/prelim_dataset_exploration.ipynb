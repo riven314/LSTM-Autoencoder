{
 "cells": [
  {
   "cell_type": "markdown",
   "metadata": {},
   "source": [
    "### SUMMARY\n",
    "- explore semantic annotations from RICO dataset\n",
    "- set up Dataset and DataLoader\n",
    "- control the resolution of the layout (all childrens/ only parents?)\n",
    "\n",
    "### THOUGHT\n",
    "- represent layout by class-tree, semantic segmentation, bboxes sequence\n",
    "\n",
    "### CAVEAT\n",
    "- align json and png pair\n",
    "- construct layout image from bounding boxes parameters"
   ]
  },
  {
   "cell_type": "code",
   "execution_count": 5,
   "metadata": {},
   "outputs": [],
   "source": [
    "import os\n",
    "import json\n",
    "import glob\n",
    "import random\n",
    "\n",
    "import numpy as np\n",
    "import pandas as pd\n",
    "import matplotlib.pyplot as plt\n",
    "from PIL import Image, ImageDraw\n",
    "\n",
    "%matplotlib inline\n",
    "%load_ext autoreload\n",
    "%autoreload 2"
   ]
  },
  {
   "cell_type": "code",
   "execution_count": 8,
   "metadata": {},
   "outputs": [],
   "source": [
    "img_dir = '/media/alex/Amazing/personal/Project/RICO_dataset/semantic_annotations'"
   ]
  },
  {
   "cell_type": "code",
   "execution_count": 10,
   "metadata": {},
   "outputs": [
    {
     "data": {
      "text/plain": [
       "(66261, 66261)"
      ]
     },
     "execution_count": 10,
     "metadata": {},
     "output_type": "execute_result"
    }
   ],
   "source": [
    "all_jsons = glob.glob(f'{img_dir}/*.json')\n",
    "all_pngs = glob.glob(f'{img_dir}/*.png')\n",
    "\n",
    "len(all_jsons), len(all_pngs)"
   ]
  },
  {
   "cell_type": "markdown",
   "metadata": {},
   "source": [
    "### 1. Layout JSON, PNG Pair Sampler"
   ]
  },
  {
   "cell_type": "code",
   "execution_count": 15,
   "metadata": {},
   "outputs": [],
   "source": [
    "class Sampler:\n",
    "    def __init__(self, img_dir):\n",
    "        self.img_dir = img_dir\n",
    "        all_fns = os.listdir(img_dir)\n",
    "        self.all_jsons = sorted([fn for fn in all_fns if fn.endswith('.json')])\n",
    "        self.all_pngs = sorted([fn for fn in all_fns if fn.endswith('.png')])\n",
    "        assert len(self.all_jsons) == len(self.all_pngs)\n",
    "        \n",
    "        self.idx = 0\n",
    "    \n",
    "    def sample(self):\n",
    "        idx = random.sample(range(len(all_jsons)), 1)[0]\n",
    "        return self.__getitem__(idx)\n",
    "    \n",
    "    def __len__(self):\n",
    "        return len(self.all_jsons)\n",
    "    \n",
    "    def __getitem__(self, idx):\n",
    "        if idx >= len(self.all_jsons):\n",
    "            raise ValueError('all_jsons goes out of range')\n",
    "        json_fn = os.path.join(self.img_dir, self.all_jsons[idx])\n",
    "        png_fn = os.path.join(self.img_dir, self.all_pngs[idx])\n",
    "        return json_fn, png_fn\n",
    "        \n",
    "    def __iter__(self):\n",
    "        return self\n",
    "    \n",
    "    def __next__(self):\n",
    "        if self.idx >= len(self.all_jsons):\n",
    "            self.idx = 0\n",
    "            raise StopIteration\n",
    "        json_fn, png_fn = self.__getitem__(self.idx)\n",
    "        self.idx += 1\n",
    "        return json_fn, png_fn"
   ]
  },
  {
   "cell_type": "code",
   "execution_count": 16,
   "metadata": {},
   "outputs": [
    {
     "data": {
      "text/plain": [
       "66261"
      ]
     },
     "execution_count": 16,
     "metadata": {},
     "output_type": "execute_result"
    }
   ],
   "source": [
    "sampler = Sampler(img_dir)\n",
    "len(sampler)"
   ]
  },
  {
   "cell_type": "code",
   "execution_count": 18,
   "metadata": {},
   "outputs": [
    {
     "data": {
      "text/plain": [
       "('/media/alex/Amazing/personal/Project/RICO_dataset/semantic_annotations/62358.json',\n",
       " '/media/alex/Amazing/personal/Project/RICO_dataset/semantic_annotations/62358.png')"
      ]
     },
     "execution_count": 18,
     "metadata": {},
     "output_type": "execute_result"
    }
   ],
   "source": [
    "json_fn, png_fn = sampler.sample()\n",
    "json_fn, png_fn"
   ]
  },
  {
   "cell_type": "markdown",
   "metadata": {},
   "source": [
    "### 2. Represent One Layout"
   ]
  },
  {
   "cell_type": "code",
   "execution_count": 90,
   "metadata": {},
   "outputs": [],
   "source": [
    "def read_json(fn):\n",
    "    with open(fn, 'rb') as f:\n",
    "        data = json.load(f)\n",
    "    #print(f'opened: {fn}')\n",
    "    return data\n",
    "\n",
    "def resize_img(img, discount = 0.1):\n",
    "    w, h = img.size\n",
    "    resized_w = int(w * discount)\n",
    "    resized_h = int(h * discount)\n",
    "    resized_img = img.resize((resized_w, resized_h))\n",
    "    return resized_img\n",
    "\n",
    "class Layout:\n",
    "    WIDTH = 1440\n",
    "    HEIGHT = 2560\n",
    "    \n",
    "    def __init__(self, json_fn, png_fn, supress_img = True):\n",
    "        self.json_fn = json_fn\n",
    "        self.png_fn = png_fn\n",
    "        \n",
    "        self.json_tree = read_json(json_fn)\n",
    "        classes, bboxs = self.parse_bboxs_from_json_tree()\n",
    "        self.classes = classes\n",
    "        self.bboxs = bboxs\n",
    "        \n",
    "        self.img = None if supress_img else resize_img(Image.open(png_fn))\n",
    "        \n",
    "    @property\n",
    "    def rasterize_bboxs(self):\n",
    "        im = Image.new('RGB', (self.WIDTH, self.HEIGHT), \n",
    "                       (255, 255, 255))\n",
    "        draw = ImageDraw.Draw(im)\n",
    "        for bbox in self.bboxs:\n",
    "            draw.rectangle(bbox, outline = 255)\n",
    "        rasterized_im = resize_img(im)\n",
    "        return rasterized_im\n",
    "\n",
    "    def __len__(self):\n",
    "        return len(self.bboxs)\n",
    "    \n",
    "    \n",
    "    def parse_bboxs_from_json_tree(self):\n",
    "        layout_bboxs = []\n",
    "        self._recursive_parse_json(\n",
    "            self.json_tree, is_parse_parent = False, bboxs = layout_bboxs\n",
    "        )\n",
    "\n",
    "        if len(layout_bboxs) == 0:\n",
    "            classes, bboxs = [], []\n",
    "        else:\n",
    "            classes, bboxs = zip(*layout_bboxs)\n",
    "        return list(classes), list(bboxs)\n",
    "    \n",
    "    def _recursive_parse_json(self, json_tree, is_parse_parent = False, bboxs = []):\n",
    "        if 'children' in json_tree:\n",
    "            if is_parse_parent:\n",
    "                child_bbox = json_tree['bounds']\n",
    "                child_class = self.parse_classs(json_tree['class'])\n",
    "                bboxs.append((child_class, child_bbox))\n",
    "\n",
    "            child_nodes = json_tree['children']\n",
    "            for child_node in child_nodes:\n",
    "                self._recursive_parse_json(child_node, is_parse_parent, bboxs = bboxs)\n",
    "\n",
    "        else:\n",
    "            child_bbox = json_tree['bounds']\n",
    "            child_class = self.parse_class(json_tree['class'])\n",
    "            bboxs.append((child_class, child_bbox))\n",
    "    \n",
    "    @staticmethod\n",
    "    def parse_class(class_name):\n",
    "        return class_name.split('.')[-1]"
   ]
  },
  {
   "cell_type": "code",
   "execution_count": 91,
   "metadata": {},
   "outputs": [
    {
     "data": {
      "text/plain": [
       "('/media/alex/Amazing/personal/Project/RICO_dataset/semantic_annotations/14191.json',\n",
       " '/media/alex/Amazing/personal/Project/RICO_dataset/semantic_annotations/14191.png')"
      ]
     },
     "execution_count": 91,
     "metadata": {},
     "output_type": "execute_result"
    }
   ],
   "source": [
    "sampler = Sampler(img_dir = img_dir)\n",
    "json_fn, png_fn = sampler.sample()\n",
    "json_fn, png_fn"
   ]
  },
  {
   "cell_type": "code",
   "execution_count": 92,
   "metadata": {},
   "outputs": [
    {
     "data": {
      "image/png": "[encoded data removed]",
      "text/plain": [
       "<PIL.Image.Image image mode=RGBA size=144x256 at 0x7F53007E8C90>"
      ]
     },
     "execution_count": 92,
     "metadata": {},
     "output_type": "execute_result"
    }
   ],
   "source": [
    "layout = Layout(json_fn, png_fn, supress_img = False)\n",
    "layout.img"
   ]
  },
  {
   "cell_type": "code",
   "execution_count": 93,
   "metadata": {},
   "outputs": [
    {
     "data": {
      "image/png": "[encoded data removed]",
      "text/plain": [
       "<PIL.Image.Image image mode=RGB size=144x256 at 0x7F53253B6350>"
      ]
     },
     "execution_count": 93,
     "metadata": {},
     "output_type": "execute_result"
    }
   ],
   "source": [
    "layout.rasterize_bboxs"
   ]
  },
  {
   "cell_type": "code",
   "execution_count": 100,
   "metadata": {},
   "outputs": [
    {
     "data": {
      "text/plain": [
       "{'ancestors': ['android.widget.FrameLayout',\n",
       "  'android.view.ViewGroup',\n",
       "  'android.view.View',\n",
       "  'java.lang.Object'],\n",
       " 'class': 'com.android.internal.policy.PhoneWindow$DecorView',\n",
       " 'bounds': [0, 0, 1440, 2392],\n",
       " 'clickable': False,\n",
       " 'children': [{'iconClass': 'star',\n",
       "   'ancestors': ['android.view.View', 'java.lang.Object'],\n",
       "   'resource-id': 'com.ter.androidapp:id/menuButton',\n",
       "   'clickable': True,\n",
       "   'class': 'android.widget.ImageView',\n",
       "   'bounds': [0, 84, 231, 263],\n",
       "   'componentLabel': 'Icon'},\n",
       "  {'ancestors': ['android.view.View', 'java.lang.Object'],\n",
       "   'resource-id': 'com.ter.androidapp:id/infoTraficButton',\n",
       "   'clickable': True,\n",
       "   'class': 'android.widget.ImageView',\n",
       "   'bounds': [1092, 84, 1440, 263],\n",
       "   'componentLabel': 'Image'},\n",
       "  {'ancestors': ['android.view.View', 'java.lang.Object'],\n",
       "   'bounds': [0, 84, 980, 102],\n",
       "   'clickable': False,\n",
       "   'class': 'android.widget.ImageView',\n",
       "   'componentLabel': 'Image'},\n",
       "  {'text': 'Mes favoris',\n",
       "   'ancestors': ['android.view.View', 'java.lang.Object'],\n",
       "   'clickable': True,\n",
       "   'class': 'android.widget.TextView',\n",
       "   'bounds': [0, 102, 980, 270],\n",
       "   'componentLabel': 'Text Button'},\n",
       "  {'ancestors': ['android.view.View', 'java.lang.Object'],\n",
       "   'bounds': [0, 270, 980, 274],\n",
       "   'clickable': False,\n",
       "   'class': 'android.widget.ImageView',\n",
       "   'componentLabel': 'Image'},\n",
       "  {'text': 'Mes régions',\n",
       "   'ancestors': ['android.view.View', 'java.lang.Object'],\n",
       "   'clickable': True,\n",
       "   'class': 'android.widget.TextView',\n",
       "   'bounds': [0, 274, 980, 442],\n",
       "   'componentLabel': 'Text Button'},\n",
       "  {'ancestors': ['android.view.View', 'java.lang.Object'],\n",
       "   'bounds': [0, 442, 980, 446],\n",
       "   'clickable': False,\n",
       "   'class': 'android.widget.ImageView',\n",
       "   'componentLabel': 'Image'},\n",
       "  {'text': 'Mes alertes',\n",
       "   'resource-id': 'com.ter.androidapp:id/myalertsmenu',\n",
       "   'ancestors': ['android.view.View', 'java.lang.Object'],\n",
       "   'clickable': True,\n",
       "   'class': 'android.widget.TextView',\n",
       "   'bounds': [0, 446, 980, 614],\n",
       "   'componentLabel': 'Text Button'},\n",
       "  {'ancestors': ['android.view.View', 'java.lang.Object'],\n",
       "   'bounds': [0, 614, 980, 632],\n",
       "   'clickable': False,\n",
       "   'class': 'android.widget.ImageView',\n",
       "   'componentLabel': 'Image'},\n",
       "  {'text': 'Mes contacts',\n",
       "   'ancestors': ['android.view.View', 'java.lang.Object'],\n",
       "   'clickable': True,\n",
       "   'class': 'android.widget.TextView',\n",
       "   'bounds': [0, 632, 980, 761],\n",
       "   'componentLabel': 'Text Button'},\n",
       "  {'ancestors': ['android.view.View', 'java.lang.Object'],\n",
       "   'bounds': [0, 761, 980, 765],\n",
       "   'clickable': False,\n",
       "   'class': 'android.widget.ImageView',\n",
       "   'componentLabel': 'Image'},\n",
       "  {'ancestors': ['android.view.View', 'java.lang.Object'],\n",
       "   'bounds': [0, 765, 980, 769],\n",
       "   'clickable': False,\n",
       "   'class': 'android.widget.ImageView',\n",
       "   'componentLabel': 'Image'},\n",
       "  {'text': 'Bulletins de retard',\n",
       "   'ancestors': ['android.view.View', 'java.lang.Object'],\n",
       "   'clickable': True,\n",
       "   'class': 'android.widget.TextView',\n",
       "   'bounds': [0, 769, 980, 898],\n",
       "   'componentLabel': 'Text Button'},\n",
       "  {'ancestors': ['android.view.View', 'java.lang.Object'],\n",
       "   'bounds': [0, 898, 980, 916],\n",
       "   'clickable': False,\n",
       "   'class': 'android.widget.ImageView',\n",
       "   'componentLabel': 'Image'},\n",
       "  {'text': \"Partager l'application\",\n",
       "   'ancestors': ['android.view.View', 'java.lang.Object'],\n",
       "   'clickable': True,\n",
       "   'class': 'android.widget.TextView',\n",
       "   'bounds': [0, 916, 980, 1084],\n",
       "   'componentLabel': 'Text Button'},\n",
       "  {'ancestors': ['android.view.View', 'java.lang.Object'],\n",
       "   'bounds': [0, 1084, 980, 1088],\n",
       "   'clickable': False,\n",
       "   'class': 'android.widget.ImageView',\n",
       "   'componentLabel': 'Image'},\n",
       "  {'ancestors': ['android.view.View', 'java.lang.Object'],\n",
       "   'bounds': [0, 1088, 980, 1092],\n",
       "   'clickable': False,\n",
       "   'class': 'android.widget.ImageView',\n",
       "   'componentLabel': 'Image'},\n",
       "  {'text': 'Mentions légales',\n",
       "   'ancestors': ['android.view.View', 'java.lang.Object'],\n",
       "   'clickable': True,\n",
       "   'class': 'android.widget.TextView',\n",
       "   'bounds': [0, 1092, 980, 1260],\n",
       "   'componentLabel': 'Text Button'},\n",
       "  {'ancestors': ['android.view.View', 'java.lang.Object'],\n",
       "   'bounds': [0, 1260, 980, 1264],\n",
       "   'clickable': False,\n",
       "   'class': 'android.widget.ImageView',\n",
       "   'componentLabel': 'Image'},\n",
       "  {'text': 'A propos',\n",
       "   'ancestors': ['android.view.View', 'java.lang.Object'],\n",
       "   'clickable': True,\n",
       "   'class': 'android.widget.TextView',\n",
       "   'bounds': [0, 1264, 980, 1432],\n",
       "   'componentLabel': 'Text Button'},\n",
       "  {'ancestors': ['android.view.View', 'java.lang.Object'],\n",
       "   'bounds': [0, 1432, 980, 1436],\n",
       "   'clickable': False,\n",
       "   'class': 'android.widget.ImageView',\n",
       "   'componentLabel': 'Image'},\n",
       "  {'text': 'GARES',\n",
       "   'resource-id': 'com.ter.androidapp:id/stationsTabHeader',\n",
       "   'ancestors': ['android.view.View', 'java.lang.Object'],\n",
       "   'clickable': True,\n",
       "   'class': 'android.widget.TextView',\n",
       "   'bounds': [7, 284, 473, 410],\n",
       "   'componentLabel': 'Text Button'},\n",
       "  {'text': 'ITINÉRAIRES',\n",
       "   'resource-id': 'com.ter.androidapp:id/routesTabHeader',\n",
       "   'ancestors': ['android.view.View', 'java.lang.Object'],\n",
       "   'clickable': True,\n",
       "   'class': 'android.widget.TextView',\n",
       "   'bounds': [487, 284, 953, 410],\n",
       "   'componentLabel': 'Text Button'},\n",
       "  {'text': 'TRAINS',\n",
       "   'resource-id': 'com.ter.androidapp:id/trainsTabHeader',\n",
       "   'ancestors': ['android.view.View', 'java.lang.Object'],\n",
       "   'clickable': True,\n",
       "   'class': 'android.widget.TextView',\n",
       "   'bounds': [967, 284, 1433, 410],\n",
       "   'componentLabel': 'Text Button'},\n",
       "  {'ancestors': ['android.view.View', 'java.lang.Object'],\n",
       "   'resource-id': 'com.ter.androidapp:id/favoriteImageView',\n",
       "   'clickable': True,\n",
       "   'class': 'android.widget.ImageView',\n",
       "   'bounds': [500, 136, 593, 211],\n",
       "   'componentLabel': 'Image'},\n",
       "  {'text': 'N° DU TRAIN',\n",
       "   'resource-id': 'com.ter.androidapp:id/textView_trainNumber',\n",
       "   'ancestors': ['android.view.View', 'java.lang.Object'],\n",
       "   'clickable': False,\n",
       "   'class': 'android.widget.TextView',\n",
       "   'bounds': [70, 530, 414, 611],\n",
       "   'componentLabel': 'Text'},\n",
       "  {'text': '',\n",
       "   'resource-id': 'com.ter.androidapp:id/textViewTrainNumber',\n",
       "   'ancestors': ['android.widget.TextView',\n",
       "    'android.view.View',\n",
       "    'java.lang.Object'],\n",
       "   'clickable': True,\n",
       "   'class': 'android.widget.EditText',\n",
       "   'bounds': [425, 509, 1370, 630],\n",
       "   'componentLabel': 'Input'},\n",
       "  {'text': 'DATE',\n",
       "   'resource-id': 'com.ter.androidapp:id/textView_trainDate',\n",
       "   'ancestors': ['android.view.View', 'java.lang.Object'],\n",
       "   'clickable': False,\n",
       "   'class': 'android.widget.TextView',\n",
       "   'bounds': [70, 681, 213, 762],\n",
       "   'componentLabel': 'Text'},\n",
       "  {'text': '7 février 2017',\n",
       "   'resource-id': 'com.ter.androidapp:id/textViewTrainDate',\n",
       "   'ancestors': ['android.view.View', 'java.lang.Object'],\n",
       "   'clickable': True,\n",
       "   'class': 'android.widget.TextView',\n",
       "   'bounds': [425, 665, 1370, 787],\n",
       "   'componentLabel': 'Text Button'},\n",
       "  {'text': 'Rechercher',\n",
       "   'resource-id': 'com.ter.androidapp:id/searchTrainButton',\n",
       "   'ancestors': ['android.widget.TextView',\n",
       "    'android.view.View',\n",
       "    'java.lang.Object'],\n",
       "   'clickable': True,\n",
       "   'class': 'android.widget.Button',\n",
       "   'bounds': [70, 815, 1370, 983],\n",
       "   'componentLabel': 'Text Button'},\n",
       "  {'ancestors': ['android.view.View', 'java.lang.Object'],\n",
       "   'resource-id': 'com.ter.androidapp:id/alertImageView',\n",
       "   'clickable': False,\n",
       "   'class': 'android.widget.ImageView',\n",
       "   'bounds': [699, 93, 769, 254],\n",
       "   'componentLabel': 'Image'}]}"
      ]
     },
     "execution_count": 100,
     "metadata": {},
     "output_type": "execute_result"
    }
   ],
   "source": [
    "layout.json_tree"
   ]
  },
  {
   "cell_type": "markdown",
   "metadata": {},
   "source": [
    "### 3. Distribution of # BBoxs "
   ]
  },
  {
   "cell_type": "code",
   "execution_count": 79,
   "metadata": {},
   "outputs": [],
   "source": [
    "bbox_n_ls = []\n",
    "for json_fn, png_fn in sampler:\n",
    "    layout = Layout(json_fn, png_fn)\n",
    "    bbox_n = len(layout)\n",
    "    bbox_n_ls.append(bbox_n)"
   ]
  },
  {
   "cell_type": "code",
   "execution_count": 88,
   "metadata": {},
   "outputs": [
    {
     "data": {
      "image/png": "[encoded data removed]",
      "text/plain": [
       "<Figure size 864x432 with 1 Axes>"
      ]
     },
     "metadata": {
      "needs_background": "light"
     },
     "output_type": "display_data"
    }
   ],
   "source": [
    "fig, ax = plt.subplots(figsize = (12, 6))\n",
    "ax.hist(bbox_n_ls, bins = 100, range = (0, 120));"
   ]
  },
  {
   "cell_type": "code",
   "execution_count": 82,
   "metadata": {},
   "outputs": [
    {
     "data": {
      "text/plain": [
       "(422, 0, 15.83817026606903, 14.251414530937371)"
      ]
     },
     "execution_count": 82,
     "metadata": {},
     "output_type": "execute_result"
    }
   ],
   "source": [
    "max(bbox_n_ls), min(bbox_n_ls), np.mean(bbox_n_ls), np.std(bbox_n_ls)"
   ]
  },
  {
   "cell_type": "code",
   "execution_count": 112,
   "metadata": {},
   "outputs": [
    {
     "data": {
      "text/plain": [
       "57698"
      ]
     },
     "execution_count": 112,
     "metadata": {},
     "output_type": "execute_result"
    }
   ],
   "source": [
    "len([n for n in bbox_n_ls if n <= 30])"
   ]
  },
  {
   "cell_type": "markdown",
   "metadata": {},
   "source": [
    "### 4. Distribution of Classes"
   ]
  },
  {
   "cell_type": "code",
   "execution_count": 94,
   "metadata": {},
   "outputs": [],
   "source": [
    "from collections import Counter\n",
    "class_counter = Counter()"
   ]
  },
  {
   "cell_type": "code",
   "execution_count": 95,
   "metadata": {},
   "outputs": [],
   "source": [
    "for json_fn, png_fn in sampler:\n",
    "    layout = Layout(json_fn, png_fn)\n",
    "    classes = layout.classes\n",
    "    class_counter.update(classes)"
   ]
  },
  {
   "cell_type": "code",
   "execution_count": 96,
   "metadata": {},
   "outputs": [
    {
     "data": {
      "text/plain": [
       "5952"
      ]
     },
     "execution_count": 96,
     "metadata": {},
     "output_type": "execute_result"
    }
   ],
   "source": [
    "len(class_counter)"
   ]
  },
  {
   "cell_type": "code",
   "execution_count": 104,
   "metadata": {},
   "outputs": [
    {
     "data": {
      "text/plain": [
       "['o',\n",
       " 'AppCompatTextView',\n",
       " 'AppCompatImageView',\n",
       " 'ImageButton',\n",
       " 'ActionMenuItemView',\n",
       " 'ImageView',\n",
       " 'RelativeLayout',\n",
       " 'TextView',\n",
       " 'Button',\n",
       " 'LinearLayout',\n",
       " 'AppCompatImageButton',\n",
       " 'AppCompatButton',\n",
       " 'CustomFontTextView',\n",
       " 'ActionMenuPresenter$OverflowMenuButton',\n",
       " 'NavigationMenuItemView',\n",
       " 'ab',\n",
       " 'FontTextView',\n",
       " 'CustomTextView',\n",
       " 'RobotoTextView']"
      ]
     },
     "execution_count": 104,
     "metadata": {},
     "output_type": "execute_result"
    }
   ],
   "source": [
    "[_class for _class, cnt in class_counter.items() if cnt > 5000]"
   ]
  },
  {
   "cell_type": "code",
   "execution_count": null,
   "metadata": {},
   "outputs": [],
   "source": []
  }
 ],
 "metadata": {
  "kernelspec": {
   "display_name": "Python 3",
   "language": "python",
   "name": "python3"
  },
  "language_info": {
   "codemirror_mode": {
    "name": "ipython",
    "version": 3
   },
   "file_extension": ".py",
   "mimetype": "text/x-python",
   "name": "python",
   "nbconvert_exporter": "python",
   "pygments_lexer": "ipython3",
   "version": "3.7.7"
  }
 },
 "nbformat": 4,
 "nbformat_minor": 4
}
