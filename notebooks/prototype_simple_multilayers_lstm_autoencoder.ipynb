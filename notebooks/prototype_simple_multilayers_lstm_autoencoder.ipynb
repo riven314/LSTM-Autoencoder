{
 "cells": [
  {
   "cell_type": "markdown",
   "metadata": {},
   "source": [
    "### SUMMARY\n",
    "- optimizer matters! using Ranger with step_size = 600 gives the best result. \n",
    "- The step decrease in learning rate really matters! (try step at 75% v.s. at 600 step)\n",
    "- No. of epochs matter (1000 v.s. 2000)\n",
    "- Sometimes it got trapped at local minima (i.e. 0.200 loss level)\n",
    "- The longer the sequence, the harder it is to be optimized\n",
    "- no. of layers doesn't really matter.\n",
    "- to determine the optimization is doing well, you need to run the same experiment multiple times\n",
    "\n",
    "### QUESTIONS\n",
    "1. why ranger gives different results at different run? how is it stochastic?"
   ]
  },
  {
   "cell_type": "code",
   "execution_count": 1,
   "metadata": {},
   "outputs": [],
   "source": [
    "import os\n",
    "\n",
    "import numpy as np\n",
    "import pandas as pd\n",
    "import matplotlib.pyplot as plt\n",
    "\n",
    "import torch\n",
    "import torch.nn as nn\n",
    "from torch.optim.lr_scheduler import StepLR\n",
    "\n",
    "from ranger import Ranger\n",
    "\n",
    "%matplotlib inline\n",
    "%load_ext autoreload\n",
    "%autoreload 2"
   ]
  },
  {
   "cell_type": "code",
   "execution_count": 2,
   "metadata": {},
   "outputs": [],
   "source": [
    "class LSTMEncoder(nn.Module):\n",
    "    def __init__(self, input_size, hidden_size, num_layers):\n",
    "        super(LSTMEncoder, self).__init__()\n",
    "        \n",
    "        self.hidden_size = hidden_size\n",
    "        self.num_layers = num_layers\n",
    "        \n",
    "        self.lstm = nn.LSTM(input_size, hidden_size, \n",
    "                            num_layers = num_layers,\n",
    "                            batch_first = True)\n",
    "        \n",
    "        nn.init.orthogonal_(self.lstm.weight_ih_l0, gain = np.sqrt(2))\n",
    "        nn.init.orthogonal_(self.lstm.weight_hh_l0, gain = np.sqrt(2))\n",
    "        \n",
    "    def forward(self, x):\n",
    "        device = x.device\n",
    "        h0 = torch.zeros(self.num_layers, x.size(0), self.hidden_size).to(device)\n",
    "        c0 = torch.zeros(self.num_layers, x.size(0), self.hidden_size).to(device)\n",
    "        \n",
    "        out, _ = self.lstm(x, (h0, c0))\n",
    "        return out[:, -1, :].unsqueeze(1)"
   ]
  },
  {
   "cell_type": "code",
   "execution_count": 3,
   "metadata": {},
   "outputs": [],
   "source": [
    "class LSTMDecoder(nn.Module):\n",
    "    def __init__(self, hidden_size, output_size, num_layers):\n",
    "        super(LSTMDecoder, self).__init__()\n",
    "        \n",
    "        self.output_size = output_size\n",
    "        self.num_layers = num_layers\n",
    "        \n",
    "        self.lstm = nn.LSTM(hidden_size, hidden_size,\n",
    "                            num_layers = num_layers,\n",
    "                            batch_first = True)\n",
    "        self.fc = nn.Linear(hidden_size, output_size)\n",
    "        self.relu = nn.LeakyReLU()\n",
    "        \n",
    "        nn.init.orthogonal_(self.lstm.weight_ih_l0, gain = np.sqrt(2))\n",
    "        nn.init.orthogonal_(self.lstm.weight_hh_l0, gain = np.sqrt(2))\n",
    "        \n",
    "    def forward(self, x):\n",
    "        # x: (batch size, seq len, hidden size)\n",
    "        hidden_size = x.size(-1)\n",
    "        device = x.device\n",
    "        h0 = torch.zeros(self.num_layers, x.size(0), hidden_size).to(device)\n",
    "        c0 = torch.zeros(self.num_layers, x.size(0), hidden_size).to(device)\n",
    "        \n",
    "        lstm_out, _ = self.lstm(x, (h0, c0))\n",
    "        fc_out = self.fc(self.relu(lstm_out))\n",
    "        return self.relu(fc_out)"
   ]
  },
  {
   "cell_type": "code",
   "execution_count": 4,
   "metadata": {},
   "outputs": [],
   "source": [
    "class LSTMAutoEncoder(nn.Module):\n",
    "    def __init__(self, input_size, hidden_size, num_layers):\n",
    "        super(LSTMAutoEncoder, self).__init__()\n",
    "        \n",
    "        self.encoder = LSTMEncoder(\n",
    "            input_size, hidden_size, num_layers\n",
    "        )\n",
    "        self.decoder = LSTMDecoder(\n",
    "            hidden_size, input_size, num_layers\n",
    "        )\n",
    "        self.relu = nn.LeakyReLU()\n",
    "        \n",
    "    def forward(self, x):\n",
    "        seq_size = x.size(1)\n",
    "        encoded_x = self.encoder(x).expand(-1, seq_size, -1)\n",
    "        decoded_x = self.decoder(encoded_x)\n",
    "        return decoded_x"
   ]
  },
  {
   "cell_type": "code",
   "execution_count": 5,
   "metadata": {},
   "outputs": [
    {
     "name": "stdout",
     "output_type": "stream",
     "text": [
      "Ranger optimizer loaded. \n",
      "Gradient Centralization usage = True\n",
      "GC applied to both conv and fc layers\n",
      "Ranger optimizer loaded. \n",
      "Gradient Centralization usage = True\n",
      "GC applied to both conv and fc layers\n"
     ]
    }
   ],
   "source": [
    "device = torch.device('cuda')\n",
    "\n",
    "num_layers = 1\n",
    "hidden_size = 256\n",
    "seq_length = 60\n",
    "batch_size = 8\n",
    "loading = 1.\n",
    "lr = 0.1\n",
    "\n",
    "epoch_n = 6000\n",
    "\n",
    "# (batch, seq, [x, y, w, h])\n",
    "x = torch.randint(low = 10, high = 320, \n",
    "                  size = (batch_size, seq_length, 4)\n",
    "                 ).float()\n",
    "x = x / 320.\n",
    "#x = torch.randn(batch_size, seq_length, 4) * loading\n",
    "x = x.to(device)\n",
    "\n",
    "model = LSTMAutoEncoder(input_size = 4, \n",
    "                        hidden_size = hidden_size,\n",
    "                        num_layers = num_layers)\n",
    "model.to(device)\n",
    "\n",
    "L2_loss = nn.MSELoss()\n",
    "L1_loss = nn.L1Loss()\n",
    "\n",
    "# enc_optimizer = torch.optim.Adam(\n",
    "#     params = filter(lambda p: p.requires_grad, model.encoder.parameters()),\n",
    "#     lr = lr\n",
    "# )\n",
    "# dec_optimizer = torch.optim.Adam(\n",
    "#     params = filter(lambda p: p.requires_grad, model.decoder.parameters()),\n",
    "#     lr = lr\n",
    "# )\n",
    "\n",
    "enc_optimizer = Ranger(\n",
    "    params = filter(lambda p: p.requires_grad, model.encoder.parameters()),\n",
    "    lr = lr\n",
    ")\n",
    "dec_optimizer = Ranger(\n",
    "    params = filter(lambda p: p.requires_grad, model.decoder.parameters()),\n",
    "    lr = lr\n",
    ")\n",
    "\n",
    "enc_scheduler = StepLR(enc_optimizer, step_size = 1000, gamma = 0.1)\n",
    "dec_scheduler = StepLR(dec_optimizer, step_size = 1000, gamma = 0.1)\n",
    "#enc_scheduler = StepLR(enc_optimizer, step_size = int(epoch_n * 0.6), gamma = 0.1)\n",
    "#dec_scheduler = StepLR(dec_optimizer, step_size = int(epoch_n * 0.6), gamma = 0.1)"
   ]
  },
  {
   "cell_type": "code",
   "execution_count": 6,
   "metadata": {
    "scrolled": true
   },
   "outputs": [
    {
     "name": "stdout",
     "output_type": "stream",
     "text": [
      "Epoch: 0\n"
     ]
    },
    {
     "name": "stderr",
     "output_type": "stream",
     "text": [
      "/opt/conda/conda-bld/pytorch_1591914855613/work/torch/csrc/utils/python_arg_parser.cpp:756: UserWarning: This overload of addcmul_ is deprecated:\n",
      "\taddcmul_(Number value, Tensor tensor1, Tensor tensor2)\n",
      "Consider using one of the following signatures instead:\n",
      "\taddcmul_(Tensor tensor1, Tensor tensor2, *, Number value)\n"
     ]
    },
    {
     "name": "stdout",
     "output_type": "stream",
     "text": [
      "Epoch: 100\n",
      "Epoch: 200\n",
      "Epoch: 300\n",
      "Epoch: 400\n",
      "Epoch: 500\n",
      "Epoch: 600\n",
      "Epoch: 700\n",
      "Epoch: 800\n",
      "Epoch: 900\n",
      "Epoch: 1000\n",
      "Epoch: 1100\n",
      "Epoch: 1200\n",
      "Epoch: 1300\n",
      "Epoch: 1400\n",
      "Epoch: 1500\n",
      "Epoch: 1600\n",
      "Epoch: 1700\n",
      "Epoch: 1800\n",
      "Epoch: 1900\n",
      "Epoch: 2000\n",
      "Epoch: 2100\n",
      "Epoch: 2200\n",
      "Epoch: 2300\n",
      "Epoch: 2400\n",
      "Epoch: 2500\n",
      "Epoch: 2600\n",
      "Epoch: 2700\n",
      "Epoch: 2800\n",
      "Epoch: 2900\n",
      "Epoch: 3000\n",
      "Epoch: 3100\n",
      "Epoch: 3200\n",
      "Epoch: 3300\n",
      "Epoch: 3400\n",
      "Epoch: 3500\n",
      "Epoch: 3600\n",
      "Epoch: 3700\n",
      "Epoch: 3800\n",
      "Epoch: 3900\n",
      "Epoch: 4000\n",
      "Epoch: 4100\n",
      "Epoch: 4200\n",
      "Epoch: 4300\n",
      "Epoch: 4400\n",
      "Epoch: 4500\n",
      "Epoch: 4600\n",
      "Epoch: 4700\n",
      "Epoch: 4800\n",
      "Epoch: 4900\n",
      "Epoch: 5000\n",
      "Epoch: 5100\n",
      "Epoch: 5200\n",
      "Epoch: 5300\n",
      "Epoch: 5400\n",
      "Epoch: 5500\n",
      "Epoch: 5600\n",
      "Epoch: 5700\n",
      "Epoch: 5800\n",
      "Epoch: 5900\n"
     ]
    }
   ],
   "source": [
    "# NO reverse \n",
    "# L2 loss\n",
    "# Leaky ReLU makes loss curve less bumpy than ReLU\n",
    "# Adam has better optimization on loss\n",
    "# set decoder to be (hidden_size, hidden_size) ==> fc(hidden_size, input_size)\n",
    "\n",
    "# IoU\n",
    "\n",
    "model.train()\n",
    "losses = []\n",
    "for epoch in range(epoch_n):\n",
    "    if epoch % 100 == 0:\n",
    "        print(f'Epoch: {epoch}')\n",
    "    enc_optimizer.zero_grad()\n",
    "    dec_optimizer.zero_grad()\n",
    "    \n",
    "    seq_length = x.size(1)\n",
    "    outputs = model(x)\n",
    "    \n",
    "    #inv_idx = torch.arange(seq_length -1, -1, -1).long()\n",
    "    #x[:, inv_idx, :] / outputs\n",
    "    #loss = L1_loss(outputs, x[:, inv_idx, :])\n",
    "    \n",
    "    # RMSE\n",
    "    loss = L2_loss(outputs, x)\n",
    "    loss = torch.sqrt(loss)\n",
    "    \n",
    "#     loss = L1_loss(\n",
    "#         torch.log(outputs),\n",
    "#         torch.log(x[:, inv_idx, :])\n",
    "#     )\n",
    "    losses.append(loss)\n",
    "    \n",
    "    loss.backward()\n",
    "    enc_optimizer.step()\n",
    "    dec_optimizer.step()\n",
    "    \n",
    "    enc_scheduler.step()\n",
    "    dec_scheduler.step()\n",
    "    \n",
    "    #print(f'[Epoch: {epoch}] Loss: {loss}')"
   ]
  },
  {
   "cell_type": "code",
   "execution_count": 7,
   "metadata": {},
   "outputs": [
    {
     "data": {
      "text/plain": [
       "tensor(0.0048, device='cuda:0', grad_fn=<SqrtBackward>)"
      ]
     },
     "execution_count": 7,
     "metadata": {},
     "output_type": "execute_result"
    },
    {
     "data": {
      "image/png": "[encoded data removed]",
      "text/plain": [
       "<Figure size 432x288 with 1 Axes>"
      ]
     },
     "metadata": {
      "needs_background": "light"
     },
     "output_type": "display_data"
    }
   ],
   "source": [
    "plt.plot(losses)\n",
    "losses[-1]"
   ]
  },
  {
   "cell_type": "code",
   "execution_count": null,
   "metadata": {},
   "outputs": [],
   "source": []
  },
  {
   "cell_type": "code",
   "execution_count": null,
   "metadata": {},
   "outputs": [],
   "source": []
  },
  {
   "cell_type": "markdown",
   "metadata": {},
   "source": [
    "#### Using Ranger as Optimizer at 0.1 LR (Trial 6)"
   ]
  },
  {
   "cell_type": "code",
   "execution_count": 7,
   "metadata": {},
   "outputs": [
    {
     "data": {
      "text/plain": [
       "tensor(0.1973, device='cuda:0', grad_fn=<SqrtBackward>)"
      ]
     },
     "execution_count": 7,
     "metadata": {},
     "output_type": "execute_result"
    },
    {
     "data": {
      "image/png": "[encoded data removed]",
      "text/plain": [
       "<Figure size 432x288 with 1 Axes>"
      ]
     },
     "metadata": {
      "needs_background": "light"
     },
     "output_type": "display_data"
    }
   ],
   "source": [
    "plt.plot(losses)\n",
    "losses[-1]"
   ]
  },
  {
   "cell_type": "markdown",
   "metadata": {},
   "source": [
    "#### Using Ranger as Optimizer at 0.1 LR (Trial 5)"
   ]
  },
  {
   "cell_type": "code",
   "execution_count": 7,
   "metadata": {},
   "outputs": [
    {
     "data": {
      "text/plain": [
       "tensor(0.0020, device='cuda:0', grad_fn=<SqrtBackward>)"
      ]
     },
     "execution_count": 7,
     "metadata": {},
     "output_type": "execute_result"
    },
    {
     "data": {
      "image/png": "[encoded data removed]",
      "text/plain": [
       "<Figure size 432x288 with 1 Axes>"
      ]
     },
     "metadata": {
      "needs_background": "light"
     },
     "output_type": "display_data"
    }
   ],
   "source": [
    "plt.plot(losses)\n",
    "losses[-1]"
   ]
  },
  {
   "cell_type": "markdown",
   "metadata": {},
   "source": [
    "#### Using Ranger as Optimizer at 0.1 LR (Trial 4)"
   ]
  },
  {
   "cell_type": "code",
   "execution_count": 7,
   "metadata": {},
   "outputs": [
    {
     "data": {
      "text/plain": [
       "tensor(0.2764, device='cuda:0', grad_fn=<SqrtBackward>)"
      ]
     },
     "execution_count": 7,
     "metadata": {},
     "output_type": "execute_result"
    },
    {
     "data": {
      "image/png": "[encoded data removed]",
      "text/plain": [
       "<Figure size 432x288 with 1 Axes>"
      ]
     },
     "metadata": {
      "needs_background": "light"
     },
     "output_type": "display_data"
    }
   ],
   "source": [
    "plt.plot(losses)\n",
    "losses[-1]"
   ]
  },
  {
   "cell_type": "markdown",
   "metadata": {},
   "source": [
    "#### Using Ranger as Optimizer at 0.1 LR (Trial 3)"
   ]
  },
  {
   "cell_type": "code",
   "execution_count": 7,
   "metadata": {},
   "outputs": [
    {
     "data": {
      "text/plain": [
       "tensor(0.2828, device='cuda:0', grad_fn=<SqrtBackward>)"
      ]
     },
     "execution_count": 7,
     "metadata": {},
     "output_type": "execute_result"
    },
    {
     "data": {
      "image/png": "[encoded data removed]",
      "text/plain": [
       "<Figure size 432x288 with 1 Axes>"
      ]
     },
     "metadata": {
      "needs_background": "light"
     },
     "output_type": "display_data"
    }
   ],
   "source": [
    "plt.plot(losses)\n",
    "losses[-1]"
   ]
  },
  {
   "cell_type": "markdown",
   "metadata": {},
   "source": [
    "#### Using Ranger as Optimizer at 0.1 LR (Trial 2)"
   ]
  },
  {
   "cell_type": "code",
   "execution_count": 7,
   "metadata": {},
   "outputs": [
    {
     "data": {
      "text/plain": [
       "tensor(0.2778, device='cuda:0', grad_fn=<SqrtBackward>)"
      ]
     },
     "execution_count": 7,
     "metadata": {},
     "output_type": "execute_result"
    },
    {
     "data": {
      "image/png": "[encoded data removed]",
      "text/plain": [
       "<Figure size 432x288 with 1 Axes>"
      ]
     },
     "metadata": {
      "needs_background": "light"
     },
     "output_type": "display_data"
    }
   ],
   "source": [
    "plt.plot(losses)\n",
    "losses[-1]"
   ]
  },
  {
   "cell_type": "markdown",
   "metadata": {},
   "source": [
    "#### Using Ranger as Optimizer at 0.1 LR (Trial 1)"
   ]
  },
  {
   "cell_type": "code",
   "execution_count": 7,
   "metadata": {},
   "outputs": [
    {
     "data": {
      "text/plain": [
       "tensor(0.2528, device='cuda:0', grad_fn=<SqrtBackward>)"
      ]
     },
     "execution_count": 7,
     "metadata": {},
     "output_type": "execute_result"
    },
    {
     "data": {
      "image/png": "[encoded data removed]",
      "text/plain": [
       "<Figure size 432x288 with 1 Axes>"
      ]
     },
     "metadata": {
      "needs_background": "light"
     },
     "output_type": "display_data"
    }
   ],
   "source": [
    "plt.plot(losses)\n",
    "losses[-1]"
   ]
  },
  {
   "cell_type": "markdown",
   "metadata": {},
   "source": [
    "#### Using Adam as Optimizer at 0.01 LR (Similar Loss Curve over Runs)"
   ]
  },
  {
   "cell_type": "code",
   "execution_count": 8,
   "metadata": {},
   "outputs": [
    {
     "data": {
      "text/plain": [
       "tensor(0.2728, device='cuda:0', grad_fn=<SqrtBackward>)"
      ]
     },
     "execution_count": 8,
     "metadata": {},
     "output_type": "execute_result"
    },
    {
     "data": {
      "image/png": "[encoded data removed]",
      "text/plain": [
       "<Figure size 432x288 with 1 Axes>"
      ]
     },
     "metadata": {
      "needs_background": "light"
     },
     "output_type": "display_data"
    }
   ],
   "source": [
    "plt.plot(losses)\n",
    "losses[-1]"
   ]
  },
  {
   "cell_type": "code",
   "execution_count": 9,
   "metadata": {},
   "outputs": [
    {
     "data": {
      "text/plain": [
       "tensor([[0.3187, 0.7125, 0.6125, 0.3438],\n",
       "        [0.9062, 0.6062, 0.5437, 0.8219],\n",
       "        [0.1562, 0.4031, 0.2438, 0.1781]], device='cuda:0')"
      ]
     },
     "execution_count": 9,
     "metadata": {},
     "output_type": "execute_result"
    }
   ],
   "source": [
    "x[0, 3:6]"
   ]
  },
  {
   "cell_type": "code",
   "execution_count": 10,
   "metadata": {},
   "outputs": [
    {
     "data": {
      "text/plain": [
       "tensor([[0.3887, 0.4425, 0.5255, 0.5263],\n",
       "        [0.5327, 0.6401, 0.4037, 0.6437],\n",
       "        [0.5158, 0.6734, 0.3769, 0.6643]], device='cuda:0',\n",
       "       grad_fn=<SliceBackward>)"
      ]
     },
     "execution_count": 10,
     "metadata": {},
     "output_type": "execute_result"
    }
   ],
   "source": [
    "outputs[0, 3:6]"
   ]
  },
  {
   "cell_type": "markdown",
   "metadata": {},
   "source": [
    "#### Size of Decoder Matters"
   ]
  },
  {
   "cell_type": "code",
   "execution_count": 7,
   "metadata": {},
   "outputs": [
    {
     "data": {
      "text/plain": [
       "[<matplotlib.lines.Line2D at 0x7f769d7413d0>]"
      ]
     },
     "execution_count": 7,
     "metadata": {},
     "output_type": "execute_result"
    },
    {
     "data": {
      "image/png": "[encoded data removed]",
      "text/plain": [
       "<Figure size 432x288 with 1 Axes>"
      ]
     },
     "metadata": {
      "needs_background": "light"
     },
     "output_type": "display_data"
    }
   ],
   "source": [
    "plt.plot(losses)"
   ]
  },
  {
   "cell_type": "code",
   "execution_count": 8,
   "metadata": {},
   "outputs": [
    {
     "data": {
      "text/plain": [
       "tensor(0.0208, device='cuda:0', grad_fn=<SqrtBackward>)"
      ]
     },
     "execution_count": 8,
     "metadata": {},
     "output_type": "execute_result"
    }
   ],
   "source": [
    "losses[-1]"
   ]
  },
  {
   "cell_type": "code",
   "execution_count": null,
   "metadata": {},
   "outputs": [],
   "source": []
  },
  {
   "cell_type": "code",
   "execution_count": 9,
   "metadata": {},
   "outputs": [
    {
     "data": {
      "text/plain": [
       "tensor(0.0024, device='cuda:0', grad_fn=<SqrtBackward>)"
      ]
     },
     "execution_count": 9,
     "metadata": {},
     "output_type": "execute_result"
    }
   ],
   "source": [
    "losses[-1]"
   ]
  },
  {
   "cell_type": "code",
   "execution_count": 7,
   "metadata": {},
   "outputs": [
    {
     "data": {
      "image/png": "[encoded data removed]",
      "text/plain": [
       "<Figure size 432x288 with 1 Axes>"
      ]
     },
     "metadata": {
      "needs_background": "light"
     },
     "output_type": "display_data"
    }
   ],
   "source": [
    "plt.plot(losses);"
   ]
  },
  {
   "cell_type": "markdown",
   "metadata": {},
   "source": [
    "### Consequence when you use a small Decoder (relative to Encoder)"
   ]
  },
  {
   "cell_type": "code",
   "execution_count": 7,
   "metadata": {},
   "outputs": [
    {
     "data": {
      "image/png": "[encoded data removed]",
      "text/plain": [
       "<Figure size 432x288 with 1 Axes>"
      ]
     },
     "metadata": {
      "needs_background": "light"
     },
     "output_type": "display_data"
    }
   ],
   "source": [
    "plt.plot(losses);"
   ]
  },
  {
   "cell_type": "code",
   "execution_count": null,
   "metadata": {},
   "outputs": [],
   "source": []
  }
 ],
 "metadata": {
  "kernelspec": {
   "display_name": "Python 3",
   "language": "python",
   "name": "python3"
  },
  "language_info": {
   "codemirror_mode": {
    "name": "ipython",
    "version": 3
   },
   "file_extension": ".py",
   "mimetype": "text/x-python",
   "name": "python",
   "nbconvert_exporter": "python",
   "pygments_lexer": "ipython3",
   "version": "3.7.7"
  }
 },
 "nbformat": 4,
 "nbformat_minor": 4
}
