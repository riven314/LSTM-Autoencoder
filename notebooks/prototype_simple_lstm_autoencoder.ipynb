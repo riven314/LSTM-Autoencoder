{
 "cells": [
  {
   "cell_type": "code",
   "execution_count": 1,
   "metadata": {},
   "outputs": [],
   "source": [
    "import os\n",
    "\n",
    "import numpy as np\n",
    "import pandas as pd\n",
    "import matplotlib.pyplot as plt\n",
    "\n",
    "import torch\n",
    "import torch.nn as nn\n",
    "from torch.optim.lr_scheduler import StepLR\n",
    "\n",
    "%matplotlib inline\n",
    "%load_ext autoreload\n",
    "%autoreload 2"
   ]
  },
  {
   "cell_type": "code",
   "execution_count": 2,
   "metadata": {},
   "outputs": [],
   "source": [
    "class LSTMEncoder(nn.Module):\n",
    "    def __init__(self, input_size, hidden_size):\n",
    "        super(LSTMEncoder, self).__init__()\n",
    "        self.hidden_size = hidden_size\n",
    "        self.lstm = nn.LSTM(input_size, hidden_size, \n",
    "                            batch_first = True)\n",
    "        \n",
    "        nn.init.orthogonal_(self.lstm.weight_ih_l0, gain = np.sqrt(2))\n",
    "        nn.init.orthogonal_(self.lstm.weight_hh_l0, gain = np.sqrt(2))\n",
    "        \n",
    "    def forward(self, x):\n",
    "        device = x.device\n",
    "        h0 = torch.zeros(1, x.size(0), self.hidden_size).to(device)\n",
    "        c0 = torch.zeros(1, x.size(0), self.hidden_size).to(device)\n",
    "        \n",
    "        out, _ = self.lstm(x, (h0, c0))\n",
    "        return out[:, -1, :].unsqueeze(1)"
   ]
  },
  {
   "cell_type": "code",
   "execution_count": 3,
   "metadata": {},
   "outputs": [],
   "source": [
    "class LSTMDecoder(nn.Module):\n",
    "    def __init__(self, hidden_size, output_size):\n",
    "        super(LSTMDecoder, self).__init__()\n",
    "        self.output_size = output_size\n",
    "        self.lstm = nn.LSTM(hidden_size, hidden_size,\n",
    "                            batch_first = True)\n",
    "        self.fc = nn.Linear(hidden_size, output_size)\n",
    "        self.relu = nn.LeakyReLU()\n",
    "        \n",
    "        nn.init.orthogonal_(self.lstm.weight_ih_l0, gain = np.sqrt(2))\n",
    "        nn.init.orthogonal_(self.lstm.weight_hh_l0, gain = np.sqrt(2))\n",
    "        \n",
    "    def forward(self, x):\n",
    "        hidden_size = x.size(-1)\n",
    "        device = x.device\n",
    "        h0 = torch.zeros(1, x.size(0), hidden_size).to(device)\n",
    "        c0 = torch.zeros(1, x.size(0), hidden_size).to(device)\n",
    "        \n",
    "        lstm_out, _ = self.lstm(x, (h0, c0))\n",
    "        fc_out = self.fc(self.relu(lstm_out))\n",
    "        return self.relu(fc_out)"
   ]
  },
  {
   "cell_type": "code",
   "execution_count": 4,
   "metadata": {},
   "outputs": [],
   "source": [
    "class LSTMAutoEncoder(nn.Module):\n",
    "    def __init__(self, input_size, hidden_size):\n",
    "        super(LSTMAutoEncoder, self).__init__()\n",
    "        self.encoder = LSTMEncoder(\n",
    "            input_size, hidden_size\n",
    "        )\n",
    "        self.decoder = LSTMDecoder(\n",
    "            hidden_size, input_size\n",
    "        )\n",
    "        self.relu = nn.LeakyReLU()\n",
    "        \n",
    "    def forward(self, x):\n",
    "        seq_size = x.size(1)\n",
    "        encoded_x = self.encoder(x).expand(-1, seq_size, -1)\n",
    "        decoded_x = self.decoder(encoded_x)\n",
    "        return decoded_x"
   ]
  },
  {
   "cell_type": "code",
   "execution_count": 5,
   "metadata": {},
   "outputs": [],
   "source": [
    "device = torch.device('cuda')\n",
    "\n",
    "hidden_size = 512\n",
    "seq_length = 40\n",
    "batch_size = 8\n",
    "loading = 1.\n",
    "lr = 0.001\n",
    "\n",
    "# (batch, seq, [x, y, w, h])\n",
    "x = torch.randint(low = 10, high = 320, \n",
    "                  size = (batch_size, seq_length, 4)\n",
    "                 ).float()\n",
    "x = x / 320.\n",
    "#x = torch.randn(batch_size, seq_length, 4) * loading\n",
    "x = x.to(device)\n",
    "\n",
    "model = LSTMAutoEncoder(input_size = 4, \n",
    "                        hidden_size = hidden_size)\n",
    "model.to(device)\n",
    "\n",
    "L2_loss = nn.MSELoss()\n",
    "L1_loss = nn.L1Loss()\n",
    "\n",
    "enc_optimizer = torch.optim.Adam(\n",
    "    params = filter(lambda p: p.requires_grad, model.encoder.parameters()),\n",
    "    lr = lr\n",
    ")\n",
    "dec_optimizer = torch.optim.Adam(\n",
    "    params = filter(lambda p: p.requires_grad, model.decoder.parameters()),\n",
    "    lr = lr\n",
    ")\n",
    "\n",
    "enc_scheduler = StepLR(enc_optimizer, step_size = 300, gamma = 0.1)\n",
    "dec_scheduler = StepLR(dec_optimizer, step_size = 300, gamma = 0.1)"
   ]
  },
  {
   "cell_type": "code",
   "execution_count": 6,
   "metadata": {
    "scrolled": false
   },
   "outputs": [
    {
     "name": "stdout",
     "output_type": "stream",
     "text": [
      "Epoch: 0\n",
      "Epoch: 100\n",
      "Epoch: 200\n",
      "Epoch: 300\n",
      "Epoch: 400\n",
      "Epoch: 500\n",
      "Epoch: 600\n",
      "Epoch: 700\n",
      "Epoch: 800\n",
      "Epoch: 900\n"
     ]
    }
   ],
   "source": [
    "# NO reverse \n",
    "# L2 loss\n",
    "# Leaky ReLU makes loss curve less bumpy than ReLU\n",
    "# Adam has better optimization on loss\n",
    "# set decoder to be (hidden_size, hidden_size) ==> fc(hidden_size, input_size)\n",
    "\n",
    "# IoU\n",
    "epoch_n = 1000\n",
    "\n",
    "model.train()\n",
    "losses = []\n",
    "for epoch in range(epoch_n):\n",
    "    if epoch % 100 == 0:\n",
    "        print(f'Epoch: {epoch}')\n",
    "    enc_optimizer.zero_grad()\n",
    "    dec_optimizer.zero_grad()\n",
    "    \n",
    "    seq_length = x.size(1)\n",
    "    outputs = model(x)\n",
    "    \n",
    "    #inv_idx = torch.arange(seq_length -1, -1, -1).long()\n",
    "    #x[:, inv_idx, :] / outputs\n",
    "    #loss = L1_loss(outputs, x[:, inv_idx, :])\n",
    "    \n",
    "    # RMSE\n",
    "    loss = L2_loss(outputs, x)\n",
    "    loss = torch.sqrt(loss)\n",
    "    \n",
    "#     loss = L1_loss(\n",
    "#         torch.log(outputs),\n",
    "#         torch.log(x[:, inv_idx, :])\n",
    "#     )\n",
    "    losses.append(loss)\n",
    "    \n",
    "    loss.backward()\n",
    "    enc_optimizer.step()\n",
    "    dec_optimizer.step()\n",
    "    \n",
    "    enc_scheduler.step()\n",
    "    dec_scheduler.step()\n",
    "    \n",
    "    #print(f'[Epoch: {epoch}] Loss: {loss}')"
   ]
  },
  {
   "cell_type": "code",
   "execution_count": 7,
   "metadata": {},
   "outputs": [
    {
     "data": {
      "text/plain": [
       "tensor(0.2380, device='cuda:0', grad_fn=<SqrtBackward>)"
      ]
     },
     "execution_count": 7,
     "metadata": {},
     "output_type": "execute_result"
    },
    {
     "data": {
      "image/png": "[encoded data removed]",
      "text/plain": [
       "<Figure size 432x288 with 1 Axes>"
      ]
     },
     "metadata": {
      "needs_background": "light"
     },
     "output_type": "display_data"
    }
   ],
   "source": [
    "plt.plot(losses)\n",
    "losses[-1]"
   ]
  },
  {
   "cell_type": "code",
   "execution_count": 12,
   "metadata": {},
   "outputs": [
    {
     "data": {
      "text/plain": [
       "tensor([[0.4500, 0.3969, 0.6000, 0.3562],\n",
       "        [0.6313, 0.3688, 0.7844, 0.6875],\n",
       "        [0.6812, 0.1594, 0.5688, 0.0312]], device='cuda:0')"
      ]
     },
     "execution_count": 12,
     "metadata": {},
     "output_type": "execute_result"
    }
   ],
   "source": [
    "x[0, 3:6]"
   ]
  },
  {
   "cell_type": "code",
   "execution_count": 13,
   "metadata": {},
   "outputs": [
    {
     "data": {
      "text/plain": [
       "tensor([[0.5955, 0.3894, 0.6545, 0.5854],\n",
       "        [0.5800, 0.4482, 0.6576, 0.4894],\n",
       "        [0.4659, 0.4182, 0.5466, 0.3553]], device='cuda:0',\n",
       "       grad_fn=<SliceBackward>)"
      ]
     },
     "execution_count": 13,
     "metadata": {},
     "output_type": "execute_result"
    }
   ],
   "source": [
    "outputs[0, 3:6]"
   ]
  },
  {
   "cell_type": "code",
   "execution_count": 7,
   "metadata": {},
   "outputs": [
    {
     "data": {
      "text/plain": [
       "[<matplotlib.lines.Line2D at 0x7f769d7413d0>]"
      ]
     },
     "execution_count": 7,
     "metadata": {},
     "output_type": "execute_result"
    },
    {
     "data": {
      "image/png": "[encoded data removed]",
      "text/plain": [
       "<Figure size 432x288 with 1 Axes>"
      ]
     },
     "metadata": {
      "needs_background": "light"
     },
     "output_type": "display_data"
    }
   ],
   "source": [
    "plt.plot(losses)"
   ]
  },
  {
   "cell_type": "code",
   "execution_count": 8,
   "metadata": {},
   "outputs": [
    {
     "data": {
      "text/plain": [
       "tensor(0.0208, device='cuda:0', grad_fn=<SqrtBackward>)"
      ]
     },
     "execution_count": 8,
     "metadata": {},
     "output_type": "execute_result"
    }
   ],
   "source": [
    "losses[-1]"
   ]
  },
  {
   "cell_type": "code",
   "execution_count": null,
   "metadata": {},
   "outputs": [],
   "source": []
  },
  {
   "cell_type": "code",
   "execution_count": 9,
   "metadata": {},
   "outputs": [
    {
     "data": {
      "text/plain": [
       "tensor(0.0024, device='cuda:0', grad_fn=<SqrtBackward>)"
      ]
     },
     "execution_count": 9,
     "metadata": {},
     "output_type": "execute_result"
    }
   ],
   "source": [
    "losses[-1]"
   ]
  },
  {
   "cell_type": "code",
   "execution_count": 7,
   "metadata": {},
   "outputs": [
    {
     "data": {
      "image/png": "[encoded data removed]",
      "text/plain": [
       "<Figure size 432x288 with 1 Axes>"
      ]
     },
     "metadata": {
      "needs_background": "light"
     },
     "output_type": "display_data"
    }
   ],
   "source": [
    "plt.plot(losses);"
   ]
  },
  {
   "cell_type": "code",
   "execution_count": 7,
   "metadata": {},
   "outputs": [
    {
     "data": {
      "image/png": "[encoded data removed]",
      "text/plain": [
       "<Figure size 432x288 with 1 Axes>"
      ]
     },
     "metadata": {
      "needs_background": "light"
     },
     "output_type": "display_data"
    }
   ],
   "source": [
    "plt.plot(losses);"
   ]
  },
  {
   "cell_type": "code",
   "execution_count": null,
   "metadata": {},
   "outputs": [],
   "source": []
  }
 ],
 "metadata": {
  "kernelspec": {
   "display_name": "Python 3",
   "language": "python",
   "name": "python3"
  },
  "language_info": {
   "codemirror_mode": {
    "name": "ipython",
    "version": 3
   },
   "file_extension": ".py",
   "mimetype": "text/x-python",
   "name": "python",
   "nbconvert_exporter": "python",
   "pygments_lexer": "ipython3",
   "version": "3.7.7"
  }
 },
 "nbformat": 4,
 "nbformat_minor": 4
}
