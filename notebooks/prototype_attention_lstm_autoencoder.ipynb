{
 "cells": [
  {
   "cell_type": "code",
   "execution_count": 6,
   "metadata": {},
   "outputs": [
    {
     "name": "stdout",
     "output_type": "stream",
     "text": [
      "The autoreload extension is already loaded. To reload it, use:\n",
      "  %reload_ext autoreload\n"
     ]
    }
   ],
   "source": [
    "import os\n",
    "\n",
    "import numpy as np\n",
    "import pandas as pd\n",
    "import matplotlib.pyplot as plt\n",
    "\n",
    "import torch\n",
    "import torch.nn as nn\n",
    "\n",
    "%matplotlib inline\n",
    "%load_ext autoreload\n",
    "%autoreload 2"
   ]
  },
  {
   "cell_type": "code",
   "execution_count": 7,
   "metadata": {},
   "outputs": [],
   "source": [
    "class LSTMEncoder(nn.Module):\n",
    "    def __init__(self, input_size, hidden_size):\n",
    "        super(LSTMEncoder, self).__init__()\n",
    "        self.hidden_size = hidden_size\n",
    "        self.lstm = nn.LSTM(input_size, hidden_size, \n",
    "                            batch_first = True)\n",
    "        \n",
    "        nn.init.orthogonal_(self.lstm.weight_ih_l0, gain = np.sqrt(2))\n",
    "        nn.init.orthogonal_(self.lstm.weight_hh_l0, gain = np.sqrt(2))\n",
    "        \n",
    "    def forward(self, x):\n",
    "        device = x.device\n",
    "        h0 = torch.zeros(1, x.size(0), self.hidden_size).to(device)\n",
    "        c0 = torch.zeros(1, x.size(0), self.hidden_size).to(device)\n",
    "        \n",
    "        out, _ = self.lstm(x, (h0, c0))\n",
    "        return out"
   ]
  },
  {
   "cell_type": "code",
   "execution_count": 8,
   "metadata": {},
   "outputs": [],
   "source": [
    "class LSTMAttentionDecoder(nn.Module):\n",
    "    def __init__(self, hidden_size, output_size):\n",
    "        super(LSTMAttentionDecoder, self).__init__()\n",
    "        \n",
    "        self.lstm = nn.LSTMCell(hidden_size, hidden_size)\n",
    "        self.softmax = nn.Softmax(dim = 1)\n",
    "        self.attention_fc = nn.Linear(2 * hidden_size, 1)\n",
    "        self.bbox_fc = nn.Linear(hidden_size, output_size)\n",
    "        self.relu = nn.ReLU()\n",
    "        \n",
    "        nn.init.orthogonal_(self.lstm.weight_ih, gain = np.sqrt(2))\n",
    "        nn.init.orthogonal_(self.lstm.weight_hh, gain = np.sqrt(2))\n",
    "\n",
    "        self.alphas_seq = []\n",
    "    \n",
    "    def forward(self, x):\n",
    "        device = x.device\n",
    "        batch_size, seq_length, hidden_size = x.size()\n",
    "        \n",
    "        self.alphas_seq = []\n",
    "        bboxs = []\n",
    "        for ti in range(seq_length):\n",
    "            if ti == 0:\n",
    "                prev_h = torch.zeros(batch_size, hidden_size).to(device)\n",
    "                prev_c = prev_h.clone().to(device)\n",
    "            else:\n",
    "                prev_h = crt_h\n",
    "                prev_c = crt_c\n",
    "            \n",
    "            # (batch_size, seq_length, 2 * hidden_size)\n",
    "            context = torch.cat([\n",
    "                prev_h.unsqueeze(1).expand(-1, seq_length, -1), \n",
    "                x\n",
    "            ], dim = -1) \n",
    "            out_fcs = self.attention_fc(context)\n",
    "            # (batch_size, seq_length, 1)\n",
    "            alphas = self.softmax(out_fcs)\n",
    "            # (batch_size, seq_length, hidden_size)\n",
    "            input_ti = (alphas * x).sum(dim = 1)\n",
    "            self.alphas_seq.append(alphas.clone())\n",
    "            \n",
    "#             alphas = torch.zeros(batch_size, seq_length, 1).to(device)\n",
    "#             alphas[:, ti, :] = 1.\n",
    "#             input_ti = (alphas * x).sum(dim = 1)\n",
    "#             self.alphas_seq.append(alphas.clone())\n",
    "\n",
    "            # feed decoder input to decoder at timestep ti\n",
    "            crt_h, crt_c = self.lstm(input_ti, (prev_h, prev_c))\n",
    "            bbox_ti = self.bbox_fc(crt_h)\n",
    "            bbox_ti = self.relu(bbox_ti)\n",
    "            bboxs.append(bbox_ti)\n",
    "            \n",
    "        bboxs = torch.stack(bboxs, dim = 1)\n",
    "        return bboxs"
   ]
  },
  {
   "cell_type": "code",
   "execution_count": 9,
   "metadata": {},
   "outputs": [],
   "source": [
    "class LSTMAutoEncoder_withAttention(nn.Module):\n",
    "    def __init__(self, input_size, hidden_size):\n",
    "        super(LSTMAutoEncoder_withAttention, self).__init__()\n",
    "        self.encoder = LSTMEncoder(\n",
    "            input_size, hidden_size\n",
    "        )\n",
    "        self.decoder = LSTMAttentionDecoder(\n",
    "            hidden_size, input_size\n",
    "        )\n",
    "        \n",
    "    def forward(self, x):\n",
    "        encoded_x = self.encoder(x)\n",
    "        decoded_x = self.decoder(encoded_x)\n",
    "        return decoded_x"
   ]
  },
  {
   "cell_type": "code",
   "execution_count": 10,
   "metadata": {},
   "outputs": [],
   "source": [
    "device = torch.device('cuda')\n",
    "\n",
    "hidden_size = 128\n",
    "seq_length = 12\n",
    "batch_size = 8\n",
    "loading = 1.\n",
    "\n",
    "# (batch, seq, [x, y, w, h])\n",
    "x = torch.randint(low = 10, high = 320, \n",
    "                  size = (batch_size, seq_length, 4)\n",
    "                 ).float()\n",
    "x = x / 320.\n",
    "#x = torch.randn(batch_size, seq_length, 4) * loading\n",
    "x = x.to(device)\n",
    "\n",
    "model = LSTMAutoEncoder_withAttention(\n",
    "            input_size = 4, hidden_size = hidden_size\n",
    "        )\n",
    "model.to(device)\n",
    "\n",
    "L2_loss = nn.MSELoss()\n",
    "L1_loss = nn.L1Loss()\n",
    "\n",
    "#optimizer = torch.optim.SGD(model.parameters(), lr = 0.1)\n",
    "lr = 0.1\n",
    "enc_optimizer = torch.optim.SGD(\n",
    "    params = filter(lambda p: p.requires_grad, model.encoder.parameters()),\n",
    "    lr = lr / 10.\n",
    ")\n",
    "dec_optimizer = torch.optim.SGD(\n",
    "    params = filter(lambda p: p.requires_grad, model.decoder.parameters()),\n",
    "    lr = lr\n",
    ")"
   ]
  },
  {
   "cell_type": "code",
   "execution_count": 11,
   "metadata": {
    "scrolled": false
   },
   "outputs": [],
   "source": [
    "# NO reverse \n",
    "# L2 loss\n",
    "\n",
    "# IoU\n",
    "epoch_n = 5000\n",
    "\n",
    "model.train()\n",
    "losses = []\n",
    "for epoch in range(epoch_n):    \n",
    "    \n",
    "    enc_optimizer.zero_grad()\n",
    "    dec_optimizer.zero_grad()\n",
    "    \n",
    "    seq_length = x.size(1)\n",
    "    outputs = model(x)\n",
    "    \n",
    "    #inv_idx = torch.arange(seq_length -1, -1, -1).long()\n",
    "    #x[:, inv_idx, :] / outputs\n",
    "    #loss = L1_loss(outputs, x[:, inv_idx, :])\n",
    "    \n",
    "    # RMSE\n",
    "    loss = L2_loss(outputs, x)\n",
    "    loss = torch.sqrt(loss)\n",
    "    \n",
    "#     loss = L1_loss(\n",
    "#         torch.log(outputs),\n",
    "#         torch.log(x[:, inv_idx, :])\n",
    "#     )\n",
    "    losses.append(loss)\n",
    "    \n",
    "    loss.backward()\n",
    "    enc_optimizer.step()\n",
    "    dec_optimizer.step()\n",
    "    \n",
    "    #print(f'[Epoch: {epoch}] Loss: {loss}')"
   ]
  },
  {
   "cell_type": "code",
   "execution_count": 12,
   "metadata": {},
   "outputs": [
    {
     "data": {
      "image/png": "[encoded data removed]",
      "text/plain": [
       "<Figure size 432x288 with 1 Axes>"
      ]
     },
     "metadata": {
      "needs_background": "light"
     },
     "output_type": "display_data"
    }
   ],
   "source": [
    "plt.plot(losses);"
   ]
  },
  {
   "cell_type": "code",
   "execution_count": 15,
   "metadata": {},
   "outputs": [
    {
     "data": {
      "text/plain": [
       "tensor([[0.0835],\n",
       "        [0.0832],\n",
       "        [0.0830],\n",
       "        [0.0835],\n",
       "        [0.0836],\n",
       "        [0.0836],\n",
       "        [0.0832],\n",
       "        [0.0835],\n",
       "        [0.0832],\n",
       "        [0.0832],\n",
       "        [0.0831],\n",
       "        [0.0835]], device='cuda:0', grad_fn=<SelectBackward>)"
      ]
     },
     "execution_count": 15,
     "metadata": {},
     "output_type": "execute_result"
    }
   ],
   "source": [
    "model.decoder.alphas_seq[-3][0]"
   ]
  },
  {
   "cell_type": "code",
   "execution_count": null,
   "metadata": {},
   "outputs": [],
   "source": []
  }
 ],
 "metadata": {
  "kernelspec": {
   "display_name": "Python 3",
   "language": "python",
   "name": "python3"
  },
  "language_info": {
   "codemirror_mode": {
    "name": "ipython",
    "version": 3
   },
   "file_extension": ".py",
   "mimetype": "text/x-python",
   "name": "python",
   "nbconvert_exporter": "python",
   "pygments_lexer": "ipython3",
   "version": "3.7.7"
  }
 },
 "nbformat": 4,
 "nbformat_minor": 4
}
